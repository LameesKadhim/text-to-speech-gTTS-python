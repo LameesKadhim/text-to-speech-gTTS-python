{
 "cells": [
  {
   "cell_type": "code",
   "execution_count": 2,
   "metadata": {},
   "outputs": [
    {
     "name": "stdout",
     "output_type": "stream",
     "text": [
      "Collecting gTTs\n",
      "  Downloading gTTS-2.1.1-py3-none-any.whl (25 kB)\n",
      "Requirement already satisfied: beautifulsoup4 in c:\\users\\lamees\\anaconda3\\lib\\site-packages (from gTTs) (4.6.0)\n",
      "Requirement already satisfied: six in c:\\users\\lamees\\anaconda3\\lib\\site-packages (from gTTs) (1.15.0)\n",
      "Collecting gtts-token>=1.1.3\n",
      "  Downloading gTTS-token-1.1.3.tar.gz (3.4 kB)\n",
      "Requirement already satisfied: click in c:\\users\\lamees\\anaconda3\\lib\\site-packages (from gTTs) (6.7)\n",
      "Requirement already satisfied: requests in c:\\users\\lamees\\anaconda3\\lib\\site-packages (from gTTs) (2.24.0)\n",
      "Requirement already satisfied: chardet<4,>=3.0.2 in c:\\users\\lamees\\anaconda3\\lib\\site-packages (from requests->gTTs) (3.0.4)\n",
      "Requirement already satisfied: idna<3,>=2.5 in c:\\users\\lamees\\anaconda3\\lib\\site-packages (from requests->gTTs) (2.6)\n",
      "Requirement already satisfied: certifi>=2017.4.17 in c:\\users\\lamees\\anaconda3\\lib\\site-packages (from requests->gTTs) (2017.7.27.1)\n",
      "Requirement already satisfied: urllib3!=1.25.0,!=1.25.1,<1.26,>=1.21.1 in c:\\users\\lamees\\anaconda3\\lib\\site-packages (from requests->gTTs) (1.22)\n",
      "Building wheels for collected packages: gtts-token\n",
      "  Building wheel for gtts-token (setup.py): started\n",
      "  Building wheel for gtts-token (setup.py): finished with status 'done'\n",
      "  Created wheel for gtts-token: filename=gTTS_token-1.1.3-py3-none-any.whl size=4482 sha256=5746a984e727669eef1a1ba3a6fb856bde81a5508d6e5341307de2732a3fba99\n",
      "  Stored in directory: c:\\users\\lamees\\appdata\\local\\pip\\cache\\wheels\\6d\\ae\\7f\\0d768fed29681475722161468bddc6220c1db2dbc18c832ce5\n",
      "Successfully built gtts-token\n",
      "Installing collected packages: gtts-token, gTTs\n",
      "Successfully installed gTTs-2.1.1 gtts-token-1.1.3\n"
     ]
    },
    {
     "name": "stderr",
     "output_type": "stream",
     "text": [
      "WARNING: You are using pip version 20.2.2; however, version 20.2.4 is available.\n",
      "You should consider upgrading via the 'c:\\users\\lamees\\anaconda3\\python.exe -m pip install --upgrade pip' command.\n"
     ]
    }
   ],
   "source": [
    "!pip install gTTs"
   ]
  },
  {
   "cell_type": "markdown",
   "metadata": {},
   "source": [
    "### Text to Speech"
   ]
  },
  {
   "cell_type": "code",
   "execution_count": 4,
   "metadata": {
    "collapsed": true
   },
   "outputs": [],
   "source": [
    "from gtts import gTTS"
   ]
  },
  {
   "cell_type": "code",
   "execution_count": 3,
   "metadata": {},
   "outputs": [
    {
     "data": {
      "text/plain": [
       "0"
      ]
     },
     "execution_count": 3,
     "metadata": {},
     "output_type": "execute_result"
    }
   ],
   "source": [
    "import os\n",
    "\n",
    "txt_to_speech = gTTS('hello, my name is Sara')\n",
    "txt_to_speech.save('hello.mp3')\n",
    "os.system('hello.mp3')"
   ]
  },
  {
   "cell_type": "markdown",
   "metadata": {},
   "source": [
    "### Text to Speech in german - play sound"
   ]
  },
  {
   "cell_type": "code",
   "execution_count": 5,
   "metadata": {},
   "outputs": [
    {
     "name": "stdout",
     "output_type": "stream",
     "text": [
      "Collecting pygame\n",
      "  Downloading pygame-1.9.6-cp36-cp36m-win_amd64.whl (4.3 MB)\n",
      "Installing collected packages: pygame\n",
      "Successfully installed pygame-1.9.6\n"
     ]
    }
   ],
   "source": [
    "!pip install pygame"
   ]
  },
  {
   "cell_type": "code",
   "execution_count": 7,
   "metadata": {},
   "outputs": [],
   "source": [
    "from pygame import mixer\n",
    "from tempfile import TemporaryFile\n",
    "\n",
    "txt_to_speech = gTTS('hallo, mein Name ist Sara', lang='de')\n",
    "\n",
    "#play sound directly in Jupyter\n",
    "mixer.init()\n",
    "sf = TemporaryFile()\n",
    "txt_to_speech.write_to_fp(sf)\n",
    "sf.seek(0)\n",
    "mixer.music.load(sf)\n",
    "mixer.music.play()\n"
   ]
  },
  {
   "cell_type": "markdown",
   "metadata": {},
   "source": [
    "### Translate from english to german and convert to speech and read both"
   ]
  },
  {
   "cell_type": "code",
   "execution_count": 9,
   "metadata": {},
   "outputs": [
    {
     "name": "stdout",
     "output_type": "stream",
     "text": [
      "Collecting googletrans\n",
      "  Downloading googletrans-3.0.0.tar.gz (17 kB)\n",
      "Collecting httpx==0.13.3\n",
      "  Downloading httpx-0.13.3-py3-none-any.whl (55 kB)\n",
      "Collecting rfc3986<2,>=1.3\n",
      "  Downloading rfc3986-1.4.0-py2.py3-none-any.whl (31 kB)\n",
      "Collecting hstspreload\n",
      "  Downloading hstspreload-2020.10.20-py3-none-any.whl (972 kB)\n",
      "Requirement already satisfied: chardet==3.* in c:\\users\\lamees\\anaconda3\\lib\\site-packages (from httpx==0.13.3->googletrans) (3.0.4)\n",
      "Collecting httpcore==0.9.*\n",
      "  Downloading httpcore-0.9.1-py3-none-any.whl (42 kB)\n",
      "Requirement already satisfied: idna==2.* in c:\\users\\lamees\\anaconda3\\lib\\site-packages (from httpx==0.13.3->googletrans) (2.6)\n",
      "Collecting sniffio\n",
      "  Downloading sniffio-1.2.0-py3-none-any.whl (10 kB)\n",
      "Requirement already satisfied: certifi in c:\\users\\lamees\\anaconda3\\lib\\site-packages (from httpx==0.13.3->googletrans) (2017.7.27.1)\n",
      "Collecting h11<0.10,>=0.8\n",
      "  Downloading h11-0.9.0-py2.py3-none-any.whl (53 kB)\n",
      "Collecting h2==3.*\n",
      "  Downloading h2-3.2.0-py2.py3-none-any.whl (65 kB)\n",
      "Collecting contextvars>=2.1; python_version < \"3.7\"\n",
      "  Downloading contextvars-2.4.tar.gz (9.6 kB)\n",
      "Collecting hyperframe<6,>=5.2.0\n",
      "  Downloading hyperframe-5.2.0-py2.py3-none-any.whl (12 kB)\n",
      "Collecting hpack<4,>=3.0\n",
      "  Downloading hpack-3.0.0-py2.py3-none-any.whl (38 kB)\n",
      "Collecting immutables>=0.9\n",
      "  Downloading immutables-0.14-cp36-cp36m-win_amd64.whl (54 kB)\n",
      "Building wheels for collected packages: googletrans, contextvars\n",
      "  Building wheel for googletrans (setup.py): started\n",
      "  Building wheel for googletrans (setup.py): finished with status 'done'\n",
      "  Created wheel for googletrans: filename=googletrans-3.0.0-py3-none-any.whl size=20310 sha256=91969c213cf72bc5947ed27d3ba9228d847fda86cd31eb4add44b72a5a5b8814\n",
      "  Stored in directory: c:\\users\\lamees\\appdata\\local\\pip\\cache\\wheels\\06\\a1\\90\\75375ea9aff253a4803b2356007f64aecb6ce2f1e46a0aa9ba\n",
      "  Building wheel for contextvars (setup.py): started\n",
      "  Building wheel for contextvars (setup.py): finished with status 'done'\n",
      "  Created wheel for contextvars: filename=contextvars-2.4-py3-none-any.whl size=5273 sha256=e8c9b58ba33e13becda3c5bbdd8d4367dec6f0223dd1216be1dbc63848360196\n",
      "  Stored in directory: c:\\users\\lamees\\appdata\\local\\pip\\cache\\wheels\\41\\11\\53\\911724983aa48deb94792432e14e518447212dd6c5477d49d3\n",
      "Successfully built googletrans contextvars\n",
      "Installing collected packages: rfc3986, hstspreload, h11, immutables, contextvars, sniffio, hyperframe, hpack, h2, httpcore, httpx, googletrans\n",
      "Successfully installed contextvars-2.4 googletrans-3.0.0 h11-0.9.0 h2-3.2.0 hpack-3.0.0 hstspreload-2020.10.20 httpcore-0.9.1 httpx-0.13.3 hyperframe-5.2.0 immutables-0.14 rfc3986-1.4.0 sniffio-1.2.0\n"
     ]
    }
   ],
   "source": [
    "!pip install googletrans"
   ]
  },
  {
   "cell_type": "code",
   "execution_count": 14,
   "metadata": {},
   "outputs": [],
   "source": [
    "from googletrans import Translator\n",
    "from gtts import gTTS\n",
    "from pygame import mixer\n",
    "from tempfile import TemporaryFile\n",
    "\n",
    "# translate text from english to german\n",
    "translator = Translator()\n",
    "txt_en = 'hello, my name is sara'\n",
    "txt_german = translator.translate(txt_en, dest='de').text\n",
    "\n",
    "#convert both texts to speech\n",
    "tts_en = gTTS(txt_en, lang='en')\n",
    "tts_german = gTTS(txt_german, lang='de')\n",
    "\n",
    "# store texts in temporary file and play both of them\n",
    "mixer.init()\n",
    "sf = TemporaryFile()\n",
    "tts_en.write_to_fp(sf)\n",
    "tts_german.write_to_fp(sf)\n",
    "sf.seek(0)\n",
    "mixer.music.load(sf)\n",
    "mixer.music.play()\n"
   ]
  },
  {
   "cell_type": "markdown",
   "metadata": {},
   "source": [
    "### Tokenizer in gTTs"
   ]
  },
  {
   "cell_type": "code",
   "execution_count": 15,
   "metadata": {},
   "outputs": [
    {
     "name": "stdout",
     "output_type": "stream",
     "text": [
      "Have you seen the Queen's new submarine?\n"
     ]
    }
   ],
   "source": [
    "# a code that converts a shortcut in text to a specified word\n",
    "from gtts.tokenizer import pre_processors\n",
    "import gtts.tokenizer.symbols\n",
    "\n",
    "gtts.tokenizer.symbols.SUB_PAIRS.append(('sub.', 'submarine'))\n",
    "test_text = 'Have you seen the Queen\\'s new sub.?'\n",
    "print(pre_processors.word_sub(test_text))"
   ]
  },
  {
   "cell_type": "markdown",
   "metadata": {},
   "source": [
    "### Microsoft speech engine"
   ]
  },
  {
   "cell_type": "code",
   "execution_count": 16,
   "metadata": {},
   "outputs": [
    {
     "name": "stdout",
     "output_type": "stream",
     "text": [
      "enter the word or sentence you want to speak it out by computer\n",
      "hello how are you today\n",
      "enter the word or sentence you want to speak it out by computer\n",
      "i am fine i am writing code\n",
      "enter the word or sentence you want to speak it out by computer\n",
      "ich heisse lamees\n",
      "enter the word or sentence you want to speak it out by computer\n",
      "exit\n"
     ]
    }
   ],
   "source": [
    "import win32com.client\n",
    "\n",
    "# calling the Dispatch method of the module which\n",
    "# interact with Microsoft Speech SDK to speak\n",
    "# the given input from the keyboard\n",
    "speaker = win32com.client.Dispatch('SAPI.SpVoice')\n",
    "\n",
    "while 1:\n",
    "    print('enter the word or sentence you want to speak it out by computer')\n",
    "    s = input()\n",
    "    speaker.Speak(s)\n",
    "    if s == 'exit' : break"
   ]
  }
 ],
 "metadata": {
  "kernelspec": {
   "display_name": "Python 3",
   "language": "python",
   "name": "python3"
  },
  "language_info": {
   "codemirror_mode": {
    "name": "ipython",
    "version": 3
   },
   "file_extension": ".py",
   "mimetype": "text/x-python",
   "name": "python",
   "nbconvert_exporter": "python",
   "pygments_lexer": "ipython3",
   "version": "3.6.3"
  }
 },
 "nbformat": 4,
 "nbformat_minor": 2
}
